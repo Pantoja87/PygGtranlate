{
 "cells": [
  {
   "cell_type": "markdown",
   "metadata": {
    "toc": true
   },
   "source": [
    "<h1>Table of Contents<span class=\"tocSkip\"></span></h1>\n",
    "<div class=\"toc\"><ul class=\"toc-item\"><li><span><a href=\"#Instalando-Pacote-GoogleTrans\" data-toc-modified-id=\"Instalando-Pacote-GoogleTrans-1\"><span class=\"toc-item-num\">1&nbsp;&nbsp;</span>Instalando Pacote GoogleTrans</a></span><ul class=\"toc-item\"><li><span><a href=\"#Importando-Pacotes\" data-toc-modified-id=\"Importando-Pacotes-1.1\"><span class=\"toc-item-num\">1.1&nbsp;&nbsp;</span>Importando Pacotes</a></span></li></ul></li><li><span><a href=\"#Acessando-arquivo.\" data-toc-modified-id=\"Acessando-arquivo.-2\"><span class=\"toc-item-num\">2&nbsp;&nbsp;</span>Acessando arquivo.</a></span><ul class=\"toc-item\"><li><span><a href=\"#Abrindo-aquivo-para-leitura-com-a-função-'open'.\" data-toc-modified-id=\"Abrindo-aquivo-para-leitura-com-a-função-'open'.-2.1\"><span class=\"toc-item-num\">2.1&nbsp;&nbsp;</span>Abrindo aquivo para leitura com a função 'open'.</a></span></li><li><span><a href=\"#Criando-variável-legenda\" data-toc-modified-id=\"Criando-variável-legenda-2.2\"><span class=\"toc-item-num\">2.2&nbsp;&nbsp;</span>Criando variável legenda</a></span></li><li><span><a href=\"#Ajustando-o-contêudo-da-legenda\" data-toc-modified-id=\"Ajustando-o-contêudo-da-legenda-2.3\"><span class=\"toc-item-num\">2.3&nbsp;&nbsp;</span>Ajustando o contêudo da legenda</a></span></li><li><span><a href=\"#Chamando-a-função-Translator.\" data-toc-modified-id=\"Chamando-a-função-Translator.-2.4\"><span class=\"toc-item-num\">2.4&nbsp;&nbsp;</span>Chamando a função Translator.</a></span><ul class=\"toc-item\"><li><span><a href=\"#loop-para-percorrer-o-arquivo-e-guradar-em-outra-lista,-após-tradução\" data-toc-modified-id=\"loop-para-percorrer-o-arquivo-e-guradar-em-outra-lista,-após-tradução-2.4.1\"><span class=\"toc-item-num\">2.4.1&nbsp;&nbsp;</span>loop para percorrer o arquivo e guradar em outra lista, após tradução</a></span></li><li><span><a href=\"#Após-a-tradução,-importando-para-outro-arquivo.\" data-toc-modified-id=\"Após-a-tradução,-importando-para-outro-arquivo.-2.4.2\"><span class=\"toc-item-num\">2.4.2&nbsp;&nbsp;</span>Após a tradução, importando para outro arquivo.</a></span></li></ul></li></ul></li></ul></div>"
   ]
  },
  {
   "cell_type": "markdown",
   "metadata": {},
   "source": [
    "# Tradução Google Translate - googletrans (en/pt)"
   ]
  },
  {
   "cell_type": "markdown",
   "metadata": {
    "ExecuteTime": {
     "end_time": "2019-05-31T17:31:46.924803Z",
     "start_time": "2019-05-31T17:31:46.914796Z"
    }
   },
   "source": [
    "## Instalando Pacote GoogleTrans"
   ]
  },
  {
   "cell_type": "code",
   "execution_count": null,
   "metadata": {},
   "outputs": [],
   "source": [
    "##pip install googletrans"
   ]
  },
  {
   "cell_type": "markdown",
   "metadata": {},
   "source": [
    "### Importando Pacotes"
   ]
  },
  {
   "cell_type": "code",
   "execution_count": 1,
   "metadata": {
    "ExecuteTime": {
     "end_time": "2019-05-31T19:59:15.974293Z",
     "start_time": "2019-05-31T19:59:15.971292Z"
    }
   },
   "outputs": [],
   "source": [
    "from googletrans import Translator\n",
    "import warnings\n",
    "warnings.filterwarnings('ignore')\n"
   ]
  },
  {
   "cell_type": "markdown",
   "metadata": {
    "ExecuteTime": {
     "end_time": "2019-05-31T17:33:13.431062Z",
     "start_time": "2019-05-31T17:33:13.429061Z"
    }
   },
   "source": [
    "## Acessando arquivo.\n"
   ]
  },
  {
   "cell_type": "markdown",
   "metadata": {
    "ExecuteTime": {
     "end_time": "2019-05-31T17:34:22.318049Z",
     "start_time": "2019-05-31T17:34:22.316048Z"
    }
   },
   "source": [
    "### Abrindo aquivo para leitura com a função 'open'."
   ]
  },
  {
   "cell_type": "code",
   "execution_count": 6,
   "metadata": {
    "ExecuteTime": {
     "end_time": "2019-05-31T19:59:20.205731Z",
     "start_time": "2019-05-31T19:59:20.202729Z"
    }
   },
   "outputs": [],
   "source": [
    "f = open('external-video-en.txt', 'r')"
   ]
  },
  {
   "cell_type": "markdown",
   "metadata": {},
   "source": [
    "### Criando variável legenda"
   ]
  },
  {
   "cell_type": "code",
   "execution_count": 7,
   "metadata": {
    "ExecuteTime": {
     "end_time": "2019-05-31T19:59:21.180908Z",
     "start_time": "2019-05-31T19:59:21.162895Z"
    }
   },
   "outputs": [],
   "source": [
    "#Atribuindo a variaável legenda, o retorno do f\n",
    "legenda = f.read()\n",
    "## necessário fechar o arquivo.\n",
    "f.close() "
   ]
  },
  {
   "cell_type": "code",
   "execution_count": 8,
   "metadata": {
    "ExecuteTime": {
     "end_time": "2019-05-31T19:59:22.527343Z",
     "start_time": "2019-05-31T19:59:22.514834Z"
    },
    "scrolled": true
   },
   "outputs": [
    {
     "data": {
      "text/plain": [
       "'0\\n00:00:00,000 --> 00:00:08,280\\n[MUSIC]\\n\\n1\\n00:00:08,280 --> 00:00:12,110\\nHello and welcome to this online course from Microsoft Learning.\\n\\n2\\n00:00:12,110 --> 00:00:15,170\\n&gt;&gt; At Microsoft our mission is empower every person and\\n\\n3\\n00:00:15,170 --> 00:00:18,110\\nevery organization to achieve more.\\n\\n4\\n00:00:18,110 --> 00:00:21,830\\n&gt;&gt; Our EdX courses, taught by Microsoft experts, let\\n\\n5\\n00:00:21,830 --> 00:00:25,190\\nyou learn cutting edge technologies through hands on experience.\\n\\n6\\n00:00:26,450 --> 00:00:27,530\\n&gt;&gt; Whether you&#39;re a student or\\n\\n7\\n00:00:27,530 --> 00:00:30,110\\na seasoned technologist we can empower you to build\\n\\n8\\n00:00:30,110 --> 00:00:32,930\\ninnovative applications, services and experiences.\\n\\n9\\n00:00:32,930 --> 00:00:35,600\\n&gt;&gt; So what are the requirements for course completion?\\n\\n10\\n00:00:35,600 --> 00:00:36,710\\nWell, time.\\n\\n11\\n00:00:36,710 --> 00:00:39,250\\n&gt;&gt; On average our courses have four modules,\\n\\n12\\n00:00:39,250 --> 00:00:41,670\\nwhich are two to four hours each.\\n\\n13\\n00:00:41,670 --> 00:00:45,710\\n&gt;&gt; Watch the videos, including presentations and demonstrations.\\n\\n14\\n00:00:45,710 --> 00:00:47,940\\n&gt;&gt; Like you would attend a lecture on campus.\\n\\n15\\n00:00:47,940 --> 00:00:50,530\\n&gt;&gt; Complete course readings or projects and\\n\\n16\\n00:00:50,530 --> 00:00:52,540\\nhands on learning activities.\\n\\n17\\n00:00:52,540 --> 00:00:54,040\\n&gt;&gt; These are your homework assignments and\\n\\n18\\n00:00:54,040 --> 00:00:55,900\\nprobably where you will learn most.\\n\\n19\\n00:00:55,900 --> 00:00:58,730\\n&gt;&gt; Take quizzes to help you prepare for the assessment.\\n\\n20\\n00:00:58,730 --> 00:01:02,050\\n&gt;&gt; The assessments can only be taken once and\\n\\n21\\n00:01:02,050 --> 00:01:05,820\\nyou need a passing grade to successfully complete the course.\\n\\n22\\n00:01:05,820 --> 00:01:09,320\\n&gt;&gt; Our courses are free as all learning should be.\\n\\n23\\n00:01:09,320 --> 00:01:14,500\\n&gt;&gt; For a shareable, verified certificate, there is the fee.\\n\\n24\\n00:01:14,500 --> 00:01:17,230\\n&gt;&gt; While our courses offer different experiences,\\n\\n25\\n00:01:17,230 --> 00:01:19,470\\nall of them shared a similar approach.\\n\\n26\\n00:01:19,470 --> 00:01:22,570\\n&gt;&gt; Please review the About page to find specific\\n\\n27\\n00:01:22,570 --> 00:01:24,620\\ninformation about your course.\\n\\n28\\n00:01:24,620 --> 00:01:29,970\\n&gt;&gt; For example, some courses release all content immediately.\\n\\n29\\n00:01:29,970 --> 00:01:33,570\\n&gt;&gt; While others release modules incrementally over time.\\n\\n30\\n00:01:33,570 --> 00:01:36,214\\n&gt;&gt; Are part of a larger learning program.\\n\\n31\\n00:01:36,214 --> 00:01:39,100\\n&gt;&gt; May require an Azure or Office 365 subscription.\\n\\n32\\n00:01:39,100 --> 00:01:42,270\\n&gt;&gt; Many students use a free trial subscription.\\n\\n33\\n00:01:43,530 --> 00:01:47,900\\n&gt;&gt; Offer opportunities to engage with instructors and peers.\\n\\n34\\n00:01:47,900 --> 00:01:50,530\\n&gt;&gt; The most common indicators of success among the more\\n\\n35\\n00:01:50,530 --> 00:01:53,220\\nthan 2 million learners that experienced our online\\n\\n36\\n00:01:53,220 --> 00:01:55,740\\ncourses are &gt;&gt; Dedicating enough\\n\\n37\\n00:01:55,740 --> 00:01:56,980\\ntime to the course.\\n\\n38\\n00:01:56,980 --> 00:01:59,080\\n&gt;&gt; Demonstrating perseverance.\\n\\n39\\n00:01:59,080 --> 00:02:01,870\\n&gt;&gt; And participating in the discussion groups.\\n\\n40\\n00:02:01,870 --> 00:02:04,670\\n&gt;&gt; Welcome to the world of Microsoft technology.\\n\\n41\\n00:02:04,670 --> 00:02:06,714\\nChoose a path and make your mark.\\n\\n42\\n00:02:06,714 --> 00:02:14,139\\n[MUSIC]\\n\\n'"
      ]
     },
     "execution_count": 8,
     "metadata": {},
     "output_type": "execute_result"
    }
   ],
   "source": [
    "#verificando a saida.\n",
    "legenda"
   ]
  },
  {
   "cell_type": "markdown",
   "metadata": {},
   "source": [
    "### Ajustando o contêudo da legenda"
   ]
  },
  {
   "cell_type": "code",
   "execution_count": 9,
   "metadata": {
    "ExecuteTime": {
     "end_time": "2019-05-31T19:59:22.134070Z",
     "start_time": "2019-05-31T19:59:22.131568Z"
    }
   },
   "outputs": [],
   "source": [
    "#quebrando em linhas pelo '\\n'\n",
    "legenda =legenda.split('\\n')"
   ]
  },
  {
   "cell_type": "code",
   "execution_count": 10,
   "metadata": {
    "ExecuteTime": {
     "end_time": "2019-05-31T19:59:25.374820Z",
     "start_time": "2019-05-31T19:59:25.371817Z"
    }
   },
   "outputs": [
    {
     "data": {
      "text/plain": [
       "list"
      ]
     },
     "execution_count": 10,
     "metadata": {},
     "output_type": "execute_result"
    }
   ],
   "source": [
    "#verificando o tipo do objeto.\n",
    "type(legenda)"
   ]
  },
  {
   "cell_type": "code",
   "execution_count": 11,
   "metadata": {
    "ExecuteTime": {
     "end_time": "2019-05-31T19:59:26.117335Z",
     "start_time": "2019-05-31T19:59:26.114834Z"
    }
   },
   "outputs": [],
   "source": [
    "#Criando obejto lista_legenda apartir de legenda, para controle e preservação dos dados anteriores.\n",
    "lista_legenda = legenda"
   ]
  },
  {
   "cell_type": "code",
   "execution_count": 12,
   "metadata": {},
   "outputs": [
    {
     "data": {
      "text/plain": [
       "['0',\n",
       " '00:00:00,000 --> 00:00:08,280',\n",
       " '[MUSIC]',\n",
       " '',\n",
       " '1',\n",
       " '00:00:08,280 --> 00:00:12,110',\n",
       " 'Hello and welcome to this online course from Microsoft Learning.',\n",
       " '',\n",
       " '2',\n",
       " '00:00:12,110 --> 00:00:15,170',\n",
       " '&gt;&gt; At Microsoft our mission is empower every person and',\n",
       " '',\n",
       " '3',\n",
       " '00:00:15,170 --> 00:00:18,110',\n",
       " 'every organization to achieve more.',\n",
       " '',\n",
       " '4',\n",
       " '00:00:18,110 --> 00:00:21,830',\n",
       " '&gt;&gt; Our EdX courses, taught by Microsoft experts, let',\n",
       " '',\n",
       " '5',\n",
       " '00:00:21,830 --> 00:00:25,190',\n",
       " 'you learn cutting edge technologies through hands on experience.',\n",
       " '',\n",
       " '6',\n",
       " '00:00:26,450 --> 00:00:27,530',\n",
       " '&gt;&gt; Whether you&#39;re a student or',\n",
       " '',\n",
       " '7',\n",
       " '00:00:27,530 --> 00:00:30,110',\n",
       " 'a seasoned technologist we can empower you to build',\n",
       " '',\n",
       " '8',\n",
       " '00:00:30,110 --> 00:00:32,930',\n",
       " 'innovative applications, services and experiences.',\n",
       " '',\n",
       " '9',\n",
       " '00:00:32,930 --> 00:00:35,600',\n",
       " '&gt;&gt; So what are the requirements for course completion?',\n",
       " '',\n",
       " '10',\n",
       " '00:00:35,600 --> 00:00:36,710',\n",
       " 'Well, time.',\n",
       " '',\n",
       " '11',\n",
       " '00:00:36,710 --> 00:00:39,250',\n",
       " '&gt;&gt; On average our courses have four modules,',\n",
       " '',\n",
       " '12',\n",
       " '00:00:39,250 --> 00:00:41,670',\n",
       " 'which are two to four hours each.',\n",
       " '',\n",
       " '13',\n",
       " '00:00:41,670 --> 00:00:45,710',\n",
       " '&gt;&gt; Watch the videos, including presentations and demonstrations.',\n",
       " '',\n",
       " '14',\n",
       " '00:00:45,710 --> 00:00:47,940',\n",
       " '&gt;&gt; Like you would attend a lecture on campus.',\n",
       " '',\n",
       " '15',\n",
       " '00:00:47,940 --> 00:00:50,530',\n",
       " '&gt;&gt; Complete course readings or projects and',\n",
       " '',\n",
       " '16',\n",
       " '00:00:50,530 --> 00:00:52,540',\n",
       " 'hands on learning activities.',\n",
       " '',\n",
       " '17',\n",
       " '00:00:52,540 --> 00:00:54,040',\n",
       " '&gt;&gt; These are your homework assignments and',\n",
       " '',\n",
       " '18',\n",
       " '00:00:54,040 --> 00:00:55,900',\n",
       " 'probably where you will learn most.',\n",
       " '',\n",
       " '19',\n",
       " '00:00:55,900 --> 00:00:58,730',\n",
       " '&gt;&gt; Take quizzes to help you prepare for the assessment.',\n",
       " '',\n",
       " '20',\n",
       " '00:00:58,730 --> 00:01:02,050',\n",
       " '&gt;&gt; The assessments can only be taken once and',\n",
       " '',\n",
       " '21',\n",
       " '00:01:02,050 --> 00:01:05,820',\n",
       " 'you need a passing grade to successfully complete the course.',\n",
       " '',\n",
       " '22',\n",
       " '00:01:05,820 --> 00:01:09,320',\n",
       " '&gt;&gt; Our courses are free as all learning should be.',\n",
       " '',\n",
       " '23',\n",
       " '00:01:09,320 --> 00:01:14,500',\n",
       " '&gt;&gt; For a shareable, verified certificate, there is the fee.',\n",
       " '',\n",
       " '24',\n",
       " '00:01:14,500 --> 00:01:17,230',\n",
       " '&gt;&gt; While our courses offer different experiences,',\n",
       " '',\n",
       " '25',\n",
       " '00:01:17,230 --> 00:01:19,470',\n",
       " 'all of them shared a similar approach.',\n",
       " '',\n",
       " '26',\n",
       " '00:01:19,470 --> 00:01:22,570',\n",
       " '&gt;&gt; Please review the About page to find specific',\n",
       " '',\n",
       " '27',\n",
       " '00:01:22,570 --> 00:01:24,620',\n",
       " 'information about your course.',\n",
       " '',\n",
       " '28',\n",
       " '00:01:24,620 --> 00:01:29,970',\n",
       " '&gt;&gt; For example, some courses release all content immediately.',\n",
       " '',\n",
       " '29',\n",
       " '00:01:29,970 --> 00:01:33,570',\n",
       " '&gt;&gt; While others release modules incrementally over time.',\n",
       " '',\n",
       " '30',\n",
       " '00:01:33,570 --> 00:01:36,214',\n",
       " '&gt;&gt; Are part of a larger learning program.',\n",
       " '',\n",
       " '31',\n",
       " '00:01:36,214 --> 00:01:39,100',\n",
       " '&gt;&gt; May require an Azure or Office 365 subscription.',\n",
       " '',\n",
       " '32',\n",
       " '00:01:39,100 --> 00:01:42,270',\n",
       " '&gt;&gt; Many students use a free trial subscription.',\n",
       " '',\n",
       " '33',\n",
       " '00:01:43,530 --> 00:01:47,900',\n",
       " '&gt;&gt; Offer opportunities to engage with instructors and peers.',\n",
       " '',\n",
       " '34',\n",
       " '00:01:47,900 --> 00:01:50,530',\n",
       " '&gt;&gt; The most common indicators of success among the more',\n",
       " '',\n",
       " '35',\n",
       " '00:01:50,530 --> 00:01:53,220',\n",
       " 'than 2 million learners that experienced our online',\n",
       " '',\n",
       " '36',\n",
       " '00:01:53,220 --> 00:01:55,740',\n",
       " 'courses are &gt;&gt; Dedicating enough',\n",
       " '',\n",
       " '37',\n",
       " '00:01:55,740 --> 00:01:56,980',\n",
       " 'time to the course.',\n",
       " '',\n",
       " '38',\n",
       " '00:01:56,980 --> 00:01:59,080',\n",
       " '&gt;&gt; Demonstrating perseverance.',\n",
       " '',\n",
       " '39',\n",
       " '00:01:59,080 --> 00:02:01,870',\n",
       " '&gt;&gt; And participating in the discussion groups.',\n",
       " '',\n",
       " '40',\n",
       " '00:02:01,870 --> 00:02:04,670',\n",
       " '&gt;&gt; Welcome to the world of Microsoft technology.',\n",
       " '',\n",
       " '41',\n",
       " '00:02:04,670 --> 00:02:06,714',\n",
       " 'Choose a path and make your mark.',\n",
       " '',\n",
       " '42',\n",
       " '00:02:06,714 --> 00:02:14,139',\n",
       " '[MUSIC]',\n",
       " '',\n",
       " '']"
      ]
     },
     "execution_count": 12,
     "metadata": {},
     "output_type": "execute_result"
    }
   ],
   "source": [
    "lista_legenda"
   ]
  },
  {
   "cell_type": "markdown",
   "metadata": {},
   "source": [
    "### Chamando a função Translator."
   ]
  },
  {
   "cell_type": "code",
   "execution_count": 13,
   "metadata": {
    "ExecuteTime": {
     "end_time": "2019-05-31T19:59:56.758259Z",
     "start_time": "2019-05-31T19:59:56.754756Z"
    }
   },
   "outputs": [],
   "source": [
    "translator = Translator(service_urls=['translate.google.com'])"
   ]
  },
  {
   "cell_type": "code",
   "execution_count": 18,
   "metadata": {},
   "outputs": [],
   "source": [
    "x =translator.translate('Help',dest='pt').text"
   ]
  },
  {
   "cell_type": "markdown",
   "metadata": {},
   "source": [
    "#### loop para percorrer o arquivo e guradar em outra lista, após tradução\n"
   ]
  },
  {
   "cell_type": "code",
   "execution_count": 44,
   "metadata": {
    "ExecuteTime": {
     "end_time": "2019-05-31T20:01:47.563698Z",
     "start_time": "2019-05-31T20:01:46.913247Z"
    },
    "code_folding": []
   },
   "outputs": [],
   "source": [
    "j=len(lista_legenda)\n",
    "temp =[]\n",
    "i = 0\n",
    "for i in range( i,j):  \n",
    "    x =translator.translate(lista_legenda[i],dest='pt').text\n",
    "    temp.append(x)\n"
   ]
  },
  {
   "cell_type": "code",
   "execution_count": 49,
   "metadata": {},
   "outputs": [
    {
     "data": {
      "text/plain": [
       "['0',\n",
       " '00:00:00,000 --> 00:00:08,280',\n",
       " '[MÚSICA]',\n",
       " '',\n",
       " '1',\n",
       " '00:00:08,280 --> 00:00:12,110',\n",
       " 'Olá e bem vindos a este curso online do Microsoft Learning.',\n",
       " '',\n",
       " '2',\n",
       " '00:00:12,110 --> 00:00:15,170',\n",
       " '& gt; & gt; Na Microsoft, nossa missão é capacitar cada pessoa e',\n",
       " '',\n",
       " '3',\n",
       " '00:00:15,170 --> 00:00:18,110',\n",
       " 'toda organização para conseguir mais.',\n",
       " '',\n",
       " '4',\n",
       " '00:00:18,110 --> 00:00:21,830',\n",
       " '& gt; & gt; Nossos cursos EdX, ministrados por especialistas da Microsoft, permitem',\n",
       " '',\n",
       " '5',\n",
       " '00:00:21,830 --> 00:00:25,190',\n",
       " 'você aprende tecnologias de ponta através da experiência prática.',\n",
       " '',\n",
       " '6',\n",
       " '00:00:26,450 --> 00:00:27,530',\n",
       " '& gt; & gt; Se você é um estudante ou',\n",
       " '',\n",
       " '7',\n",
       " '00:00:27,530 --> 00:00:30,110',\n",
       " 'um tecnólogo experiente, podemos capacitá-lo a construir',\n",
       " '',\n",
       " '8',\n",
       " '00:00:30,110 --> 00:00:32,930',\n",
       " 'aplicações, serviços e experiências inovadores.',\n",
       " '',\n",
       " '9',\n",
       " '00:00:32,930 --> 00:00:35,600',\n",
       " '& gt; & gt; Então, quais são os requisitos para a conclusão do curso?',\n",
       " '',\n",
       " '10',\n",
       " '00:00:35,600 --> 00:00:36,710',\n",
       " 'Bem tempo.',\n",
       " '',\n",
       " '11',\n",
       " '00:00:36,710 --> 00:00:39,250',\n",
       " '& gt; & gt; Em média, nossos cursos têm quatro módulos,',\n",
       " '',\n",
       " '12',\n",
       " '00:00:39,250 --> 00:00:41,670',\n",
       " 'que são duas a quatro horas cada.',\n",
       " '',\n",
       " '13',\n",
       " '00:00:41,670 --> 00:00:45,710',\n",
       " '& gt; & gt; Assista aos vídeos, incluindo apresentações e demonstrações.',\n",
       " '',\n",
       " '14',\n",
       " '00:00:45,710 --> 00:00:47,940',\n",
       " '& gt; & gt; Como se você fosse assistir a uma palestra no campus.',\n",
       " '',\n",
       " '15',\n",
       " '00:00:47,940 --> 00:00:50,530',\n",
       " '& gt; & gt; Leituras completas do curso ou projetos e',\n",
       " '',\n",
       " '16',\n",
       " '00:00:50,530 --> 00:00:52,540',\n",
       " 'mãos em atividades de aprendizagem.',\n",
       " '',\n",
       " '17',\n",
       " '00:00:52,540 --> 00:00:54,040',\n",
       " '& gt; & gt; Estas são as suas tarefas de casa e',\n",
       " '',\n",
       " '18',\n",
       " '00:00:54,040 --> 00:00:55,900',\n",
       " 'provavelmente onde você aprenderá mais.',\n",
       " '',\n",
       " '19',\n",
       " '00:00:55,900 --> 00:00:58,730',\n",
       " '& gt; & gt; Faça testes para ajudar você a se preparar para a avaliação.',\n",
       " '',\n",
       " '20',\n",
       " '00:00:58,730 --> 00:01:02,050',\n",
       " '& gt; & gt; As avaliações só podem ser feitas uma vez e',\n",
       " '',\n",
       " '21',\n",
       " '00:01:02,050 --> 00:01:05,820',\n",
       " 'você precisa de uma nota de aprovação para concluir com sucesso o curso.',\n",
       " '',\n",
       " '22',\n",
       " '00:01:05,820 --> 00:01:09,320',\n",
       " '& gt; & gt; Nossos cursos são gratuitos, como todo aprendizado deveria ser.',\n",
       " '',\n",
       " '23',\n",
       " '00:01:09,320 --> 00:01:14,500',\n",
       " '& gt; & gt; Para um certificado verificável e compartilhável, há a taxa.',\n",
       " '',\n",
       " '24',\n",
       " '00:01:14,500 --> 00:01:17,230',\n",
       " '& gt; & gt; Enquanto nossos cursos oferecem diferentes experiências,',\n",
       " '',\n",
       " '25',\n",
       " '00:01:17,230 --> 00:01:19,470',\n",
       " 'todos eles compartilhavam uma abordagem semelhante.',\n",
       " '',\n",
       " '26',\n",
       " '00:01:19,470 --> 00:01:22,570',\n",
       " '& gt; & gt; Por favor, revise a página Sobre para encontrar',\n",
       " '',\n",
       " '27',\n",
       " '00:01:22,570 --> 00:01:24,620',\n",
       " 'informações sobre o seu curso.',\n",
       " '',\n",
       " '28',\n",
       " '00:01:24,620 --> 00:01:29,970',\n",
       " '& gt; & gt; Por exemplo, alguns cursos lançam todo o conteúdo imediatamente.',\n",
       " '',\n",
       " '29',\n",
       " '00:01:29,970 --> 00:01:33,570',\n",
       " '& gt; & gt; Enquanto outros lançam módulos incrementalmente ao longo do tempo.',\n",
       " '',\n",
       " '30',\n",
       " '00:01:33,570 --> 00:01:36,214',\n",
       " '& gt; & gt; Faz parte de um programa de aprendizado maior.',\n",
       " '',\n",
       " '31',\n",
       " '00:01:36,214 --> 00:01:39,100',\n",
       " '& gt; & gt; Pode exigir uma assinatura do Azure ou do Office 365.',\n",
       " '',\n",
       " '32',\n",
       " '00:01:39,100 --> 00:01:42,270',\n",
       " '& gt; & gt; Muitos alunos usam uma assinatura de avaliação gratuita.',\n",
       " '',\n",
       " '33',\n",
       " '00:01:43,530 --> 00:01:47,900',\n",
       " '& gt; & gt; Ofereça oportunidades para se envolver com instrutores e colegas.',\n",
       " '',\n",
       " '34',\n",
       " '00:01:47,900 --> 00:01:50,530',\n",
       " '& gt; & gt; Os indicadores mais comuns de sucesso entre os mais',\n",
       " '',\n",
       " '35',\n",
       " '00:01:50,530 --> 00:01:53,220',\n",
       " 'de 2 milhões de alunos que experimentaram nosso',\n",
       " '',\n",
       " '36',\n",
       " '00:01:53,220 --> 00:01:55,740',\n",
       " 'os cursos são & gt; & gt; Dedicando o suficiente',\n",
       " '',\n",
       " '37',\n",
       " '00:01:55,740 --> 00:01:56,980',\n",
       " 'tempo para o curso.',\n",
       " '',\n",
       " '38',\n",
       " '00:01:56,980 --> 00:01:59,080',\n",
       " '& gt; & gt; Demonstrando perseverança.',\n",
       " '',\n",
       " '39',\n",
       " '00:01:59,080 --> 00:02:01,870',\n",
       " '& gt; & gt; E participando dos grupos de discussão.',\n",
       " '',\n",
       " '40',\n",
       " '00:02:01,870 --> 00:02:04,670',\n",
       " '& gt; & gt; Bem-vindo ao mundo da tecnologia Microsoft.',\n",
       " '',\n",
       " '41',\n",
       " '00:02:04,670 --> 00:02:06,714',\n",
       " 'Escolha um caminho e deixe sua marca.',\n",
       " '',\n",
       " '42',\n",
       " '00:02:06,714 --> 00:02:14,139',\n",
       " '[MÚSICA]',\n",
       " '',\n",
       " '']"
      ]
     },
     "execution_count": 49,
     "metadata": {},
     "output_type": "execute_result"
    }
   ],
   "source": [
    "temp"
   ]
  },
  {
   "cell_type": "markdown",
   "metadata": {},
   "source": [
    "#### Após a tradução, importando para outro arquivo."
   ]
  },
  {
   "cell_type": "code",
   "execution_count": 46,
   "metadata": {
    "ExecuteTime": {
     "end_time": "2019-05-31T20:01:13.541571Z",
     "start_time": "2019-05-31T20:01:13.538070Z"
    }
   },
   "outputs": [],
   "source": [
    "# file-output.py\n",
    "f = open('traduzido.txt','w')\n",
    "#f.write(x)\n",
    "j = len(temp)\n",
    "for i in  range( 0,j):\n",
    "    f.write(temp[i])\n",
    "f.close()"
   ]
  }
 ],
 "metadata": {
  "gist": {
   "data": {
    "description": "PythonScripts/Textos/Trab_texto.ipynb",
    "public": true
   },
   "id": ""
  },
  "hide_input": false,
  "kernelspec": {
   "display_name": "Python 3",
   "language": "python",
   "name": "python3"
  },
  "language_info": {
   "codemirror_mode": {
    "name": "ipython",
    "version": 3
   },
   "file_extension": ".py",
   "mimetype": "text/x-python",
   "name": "python",
   "nbconvert_exporter": "python",
   "pygments_lexer": "ipython3",
   "version": "3.7.1"
  },
  "nbTranslate": {
   "displayLangs": [
    "*"
   ],
   "hotkey": "alt-t",
   "langInMainMenu": true,
   "sourceLang": "en",
   "targetLang": "fr",
   "useGoogleTranslate": true
  },
  "toc": {
   "base_numbering": 1,
   "nav_menu": {},
   "number_sections": true,
   "sideBar": true,
   "skip_h1_title": true,
   "title_cell": "Table of Contents",
   "title_sidebar": "Contents",
   "toc_cell": true,
   "toc_position": {
    "height": "calc(100% - 180px)",
    "left": "10px",
    "top": "150px",
    "width": "380.797px"
   },
   "toc_section_display": true,
   "toc_window_display": true
  },
  "varInspector": {
   "cols": {
    "lenName": 16,
    "lenType": 16,
    "lenVar": 40
   },
   "kernels_config": {
    "python": {
     "delete_cmd_postfix": "",
     "delete_cmd_prefix": "del ",
     "library": "var_list.py",
     "varRefreshCmd": "print(var_dic_list())"
    },
    "r": {
     "delete_cmd_postfix": ") ",
     "delete_cmd_prefix": "rm(",
     "library": "var_list.r",
     "varRefreshCmd": "cat(var_dic_list()) "
    }
   },
   "types_to_exclude": [
    "module",
    "function",
    "builtin_function_or_method",
    "instance",
    "_Feature"
   ],
   "window_display": false
  }
 },
 "nbformat": 4,
 "nbformat_minor": 2
}
